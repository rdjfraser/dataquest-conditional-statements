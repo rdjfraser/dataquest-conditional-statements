{
 "cells": [
  {
   "cell_type": "code",
   "execution_count": 3,
   "id": "42088200",
   "metadata": {},
   "outputs": [
    {
     "name": "stdout",
     "output_type": "stream",
     "text": [
      "3.3767258382642997\n"
     ]
    }
   ],
   "source": [
    "# INITIAL CODE\n",
    "opened_file = open('/Users/robfraser-2015MBA/Documents/!Professional/Py Project/DataQuest/Conditional Statements/AppleStore.csv')\n",
    "from csv import reader\n",
    "read_file = reader(opened_file)\n",
    "apps_data = list(read_file)\n",
    "\n",
    "free_apps_ratings = []\n",
    "for row in apps_data[1:]:\n",
    "    rating = float(row[7])\n",
    "    price = float(row[4])\n",
    "    \n",
    "    if price == 0.0:\n",
    "        free_apps_ratings.append(rating)\n",
    "avg_rating_free=(sum(free_apps_ratings)/len(free_apps_ratings))\n",
    "print(avg_rating_free)\n",
    "\n",
    "\n",
    "#Looking at a data frame and creating a list of one variable (rating) and saving it based on a condition \n",
    "#(price of the app). This gives me a stored list that I can sum (sum()) and divide by the list length (len())\n",
    "#to get the average and save it to another variable."
   ]
  },
  {
   "cell_type": "code",
   "execution_count": 5,
   "id": "49198a78",
   "metadata": {},
   "outputs": [
    {
     "name": "stdout",
     "output_type": "stream",
     "text": [
      "This is free\n"
     ]
    }
   ],
   "source": [
    "#Learning how to use if statements\n",
    "a_price = 0\n",
    "if a_price == 0:\n",
    "    print('This is free')\n",
    "if a_price == 1:\n",
    "    print('This is not free')"
   ]
  },
  {
   "cell_type": "code",
   "execution_count": 7,
   "id": "dd36206a",
   "metadata": {},
   "outputs": [
    {
     "name": "stdout",
     "output_type": "stream",
     "text": [
      "3.720948742438714\n",
      "Free apps are better\n"
     ]
    }
   ],
   "source": [
    "#Learning to use != is not equal to\n",
    "#Learning to use if statements\n",
    "#Learningt to iterate over a list and save variables into lists and conditionally save values from that list\n",
    "\n",
    "# INITIAL CODE\n",
    "opened_file = open('/Users/robfraser-2015MBA/Documents/!Professional/Py Project/DataQuest/Conditional Statements/AppleStore.csv')\n",
    "from csv import reader\n",
    "read_file = reader(opened_file)\n",
    "apps_data = list(read_file)\n",
    "\n",
    "non_free_apps_ratings = []\n",
    "for row in apps_data[1:]:\n",
    "    rating = float(row[7])\n",
    "    price = float(row[4])   \n",
    "    if price != 0.0:\n",
    "        non_free_apps_ratings.append(rating)\n",
    "    \n",
    "avg_rating_non_free = sum(non_free_apps_ratings) / len(non_free_apps_ratings)\n",
    "print(avg_rating_non_free)\n",
    "\n",
    "if avg_rating_non_free >= 3.38:\n",
    "   print('Free apps are better')\n",
    "    \n",
    "if 3.38 >= avg_rating_non_free:\n",
    "    print('Non-free apps are better')"
   ]
  },
  {
   "cell_type": "code",
   "execution_count": 8,
   "id": "2e377c60",
   "metadata": {},
   "outputs": [
    {
     "name": "stdout",
     "output_type": "stream",
     "text": [
      "3.343928035982009\n"
     ]
    }
   ],
   "source": [
    "#Learning to use comparitors == and != for strings or lists\n",
    "\n",
    "opened_file = open('/Users/robfraser-2015MBA/Documents/!Professional/Py Project/DataQuest/Conditional Statements/AppleStore.csv')\n",
    "\n",
    "from csv import reader\n",
    "read_file = reader(opened_file)\n",
    "apps_data = list(read_file)\n",
    "\n",
    "non_games_ratings = []\n",
    "\n",
    "#loop, iterating over the loop to extract the rating and genre, and appending rating to list non_games_rating if the genre is not equal to games\n",
    "for row in apps_data[1:]:\n",
    "    rating = float(row[7])\n",
    "    genre = row[11]\n",
    "    \n",
    "    if genre != 'Games':\n",
    "        non_games_ratings.append(rating)\n",
    "        \n",
    "avg_rating_non_games = sum(non_games_ratings) / len(non_games_ratings)\n",
    "print(avg_rating_non_games)"
   ]
  },
  {
   "cell_type": "code",
   "execution_count": 9,
   "id": "18e7b0b2",
   "metadata": {},
   "outputs": [
    {
     "name": "stdout",
     "output_type": "stream",
     "text": [
      "3.5285777580859548\n"
     ]
    }
   ],
   "source": [
    "# INITIAL CODE\n",
    "#Learning how to run multiple conditional if statements using 'and'\n",
    "opened_file = open('/Users/robfraser-2015MBA/Documents/!Professional/Py Project/DataQuest/Conditional Statements/AppleStore.csv')\n",
    "\n",
    "from csv import reader\n",
    "read_file = reader(opened_file)\n",
    "apps_data = list(read_file)\n",
    "\n",
    "free_games_ratings = []\n",
    "for row in apps_data[1:]:\n",
    "    rating = float(row[7])\n",
    "    price = float(row[4])\n",
    "    genre = row[11]\n",
    "\n",
    "    if price == 0.0 and genre == 'Games':\n",
    "        free_games_ratings.append(rating)\n",
    "        \n",
    "avg_rating_free_games = sum(free_games_ratings) / len(free_games_ratings)\n",
    "print(avg_rating_free_games)"
   ]
  },
  {
   "cell_type": "code",
   "execution_count": 6,
   "id": "c1a95065",
   "metadata": {},
   "outputs": [
    {
     "name": "stdout",
     "output_type": "stream",
     "text": [
      "Social and Games average rating = 3.655994043186895\n"
     ]
    }
   ],
   "source": [
    "#Learning about conditional operators OR and AND. Logical operators changing\n",
    "#Boolean algebra is truth based. Results are either true or false. Python looks at these statements and returns T/F\n",
    "#Based on this it will trigge or not trigger action using if/else functions\n",
    "\n",
    "# INITIAL CODE\n",
    "opened_file = open('/Users/robfraser-2015MBA/Documents/!Professional/Py Project/DataQuest/Conditional Statements/AppleStore.csv')\n",
    "\n",
    "from csv import reader\n",
    "read_file = reader(opened_file)\n",
    "apps_data = list(read_file)\n",
    "\n",
    "games_social_ratings = []\n",
    "for row in apps_data[1:]:\n",
    "    rating = float(row[7])\n",
    "    genre = row[11]\n",
    "\n",
    "    if genre == 'Social Networking' or genre == 'Games':\n",
    "        games_social_ratings.append(rating)\n",
    "        \n",
    "avg_games_social = sum(games_social_ratings) / len(games_social_ratings)\n",
    "print('Social and Games average rating =', avg_games_social)"
   ]
  },
  {
   "cell_type": "code",
   "execution_count": 7,
   "id": "181f176b",
   "metadata": {},
   "outputs": [
    {
     "name": "stdout",
     "output_type": "stream",
     "text": [
      "3.8904235727440146\n"
     ]
    }
   ],
   "source": [
    "#Learning about multiple logical conditions\n",
    "\n",
    "opened_file = open('/Users/robfraser-2015MBA/Documents/!Professional/Py Project/DataQuest/Conditional Statements/AppleStore.csv')\n",
    "from csv import reader\n",
    "read_file = reader(opened_file)\n",
    "apps_data = list(read_file)\n",
    "\n",
    "free_games_social_ratings = []\n",
    "nonfree_games_social_ratings = []\n",
    "\n",
    "for row in apps_data[1:]:\n",
    "    rating = float(row[7])\n",
    "    genre = row[11]\n",
    "    price = float(row[4])\n",
    "    \n",
    "    if (genre == 'Social Networking' or genre == 'Games') and price == 0:\n",
    "        free_games_social_ratings.append(rating)\n",
    "    if (genre == 'Social Networking' or genre == 'Games') and price != 0:\n",
    "        nonfree_games_social_ratings.append(rating)\n",
    "\n",
    "avg_non_free = sum(nonfree_games_social_ratings) / len(nonfree_games_social_ratings)\n",
    "print(avg_non_free)\n",
    "        \n",
    "avg_free = sum(free_games_social_ratings) / len(free_games_social_ratings)\n",
    "\n",
    "        \n",
    "        "
   ]
  },
  {
   "cell_type": "code",
   "execution_count": 8,
   "id": "6589e682",
   "metadata": {},
   "outputs": [
    {
     "name": "stdout",
     "output_type": "stream",
     "text": [
      "[['id', 'track_name', 'size_bytes', 'currency', 'price', 'rating_count_tot', 'rating_count_ver', 'user_rating', 'user_rating_ver', 'ver', 'cont_rating', 'prime_genre', 'sup_devices.num', 'ipadSc_urls.num', 'lang.num', 'vpp_lic'], ['284882215', 'Facebook', '389879808', 'USD', '0.0', '2974676', '212', '3.5', '3.5', '95.0', '4+', 'Social Networking', '37', '1', '29', '1'], ['389801252', 'Instagram', '113954816', 'USD', '0.0', '2161558', '1289', '4.5', '4.0', '10.23', '12+', 'Photo & Video', '37', '0', '29', '1'], ['529479190', 'Clash of Clans', '116476928', 'USD', '0.0', '2130805', '579', '4.5', '4.5', '9.24.12', '9+', 'Games', '38', '5', '18', '1'], ['420009108', 'Temple Run', '65921024', 'USD', '0.0', '1724546', '3842', '4.5', '4.0', '1.6.2', '9+', 'Games', '40', '5', '1', '1']]\n",
      "[['id', 'track_name', 'size_bytes', 'currency', 'price', 'rating_count_tot', 'rating_count_ver', 'user_rating', 'user_rating_ver', 'ver', 'cont_rating', 'prime_genre', 'sup_devices.num', 'ipadSc_urls.num', 'lang.num', 'vpp_lic', 'price_label'], ['284882215', 'Facebook', '389879808', 'USD', '0.0', '2974676', '212', '3.5', '3.5', '95.0', '4+', 'Social Networking', '37', '1', '29', '1', 'free'], ['389801252', 'Instagram', '113954816', 'USD', '0.0', '2161558', '1289', '4.5', '4.0', '10.23', '12+', 'Photo & Video', '37', '0', '29', '1', 'free'], ['529479190', 'Clash of Clans', '116476928', 'USD', '0.0', '2130805', '579', '4.5', '4.5', '9.24.12', '9+', 'Games', '38', '5', '18', '1', 'free'], ['420009108', 'Temple Run', '65921024', 'USD', '0.0', '1724546', '3842', '4.5', '4.0', '1.6.2', '9+', 'Games', '40', '5', '1', '1', 'free']]\n"
     ]
    }
   ],
   "source": [
    "#Learning to use conditional else if (elif) statements\n",
    "#This will save the processer time as it will not continue to run multiple lines of iterations/loops if it already\n",
    "#has done the sufficient work required met the required conditions\n",
    "\n",
    "# INITIAL CODE\n",
    "opened_file = open('/Users/robfraser-2015MBA/Documents/!Professional/Py Project/DataQuest/Conditional Statements/AppleStore.csv')\n",
    "from csv import reader\n",
    "read_file = reader(opened_file)\n",
    "apps_data = list(read_file)\n",
    "\n",
    "print(apps_data[:5])\n",
    "\n",
    "\n",
    "for app in apps_data[1:]:\n",
    "    price = float(app[4])\n",
    "\n",
    "    if price == 0:\n",
    "        app.append('free')\n",
    "        \n",
    "    elif price > 0 and price < 20:\n",
    "        app.append('affordable')\n",
    "        \n",
    "    elif price >= 20 and price < 50:\n",
    "        app.append('expensive')\n",
    "        \n",
    "    elif price >= 50:\n",
    "        app.append('very expensive')\n",
    "        \n",
    "apps_data[0].append('price_label')\n",
    "\n",
    "print(apps_data[:5])"
   ]
  },
  {
   "cell_type": "code",
   "execution_count": null,
   "id": "3e9af624",
   "metadata": {},
   "outputs": [],
   "source": []
  }
 ],
 "metadata": {
  "kernelspec": {
   "display_name": "Python 3",
   "language": "python",
   "name": "python3"
  },
  "language_info": {
   "codemirror_mode": {
    "name": "ipython",
    "version": 3
   },
   "file_extension": ".py",
   "mimetype": "text/x-python",
   "name": "python",
   "nbconvert_exporter": "python",
   "pygments_lexer": "ipython3",
   "version": "3.8.8"
  }
 },
 "nbformat": 4,
 "nbformat_minor": 5
}
